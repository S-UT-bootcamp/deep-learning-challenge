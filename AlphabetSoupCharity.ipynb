{
 "cells": [
  {
   "cell_type": "markdown",
   "metadata": {},
   "source": [
    "## Preprocessing"
   ]
  },
  {
   "cell_type": "code",
   "execution_count": 121,
   "metadata": {},
   "outputs": [
    {
     "data": {
      "text/html": [
       "<div>\n",
       "<style scoped>\n",
       "    .dataframe tbody tr th:only-of-type {\n",
       "        vertical-align: middle;\n",
       "    }\n",
       "\n",
       "    .dataframe tbody tr th {\n",
       "        vertical-align: top;\n",
       "    }\n",
       "\n",
       "    .dataframe thead th {\n",
       "        text-align: right;\n",
       "    }\n",
       "</style>\n",
       "<table border=\"1\" class=\"dataframe\">\n",
       "  <thead>\n",
       "    <tr style=\"text-align: right;\">\n",
       "      <th></th>\n",
       "      <th>EIN</th>\n",
       "      <th>NAME</th>\n",
       "      <th>APPLICATION_TYPE</th>\n",
       "      <th>AFFILIATION</th>\n",
       "      <th>CLASSIFICATION</th>\n",
       "      <th>USE_CASE</th>\n",
       "      <th>ORGANIZATION</th>\n",
       "      <th>STATUS</th>\n",
       "      <th>INCOME_AMT</th>\n",
       "      <th>SPECIAL_CONSIDERATIONS</th>\n",
       "      <th>ASK_AMT</th>\n",
       "      <th>IS_SUCCESSFUL</th>\n",
       "    </tr>\n",
       "  </thead>\n",
       "  <tbody>\n",
       "    <tr>\n",
       "      <th>0</th>\n",
       "      <td>10520599</td>\n",
       "      <td>BLUE KNIGHTS MOTORCYCLE CLUB</td>\n",
       "      <td>T10</td>\n",
       "      <td>Independent</td>\n",
       "      <td>C1000</td>\n",
       "      <td>ProductDev</td>\n",
       "      <td>Association</td>\n",
       "      <td>1</td>\n",
       "      <td>0</td>\n",
       "      <td>N</td>\n",
       "      <td>5000</td>\n",
       "      <td>1</td>\n",
       "    </tr>\n",
       "    <tr>\n",
       "      <th>1</th>\n",
       "      <td>10531628</td>\n",
       "      <td>AMERICAN CHESAPEAKE CLUB CHARITABLE TR</td>\n",
       "      <td>T3</td>\n",
       "      <td>Independent</td>\n",
       "      <td>C2000</td>\n",
       "      <td>Preservation</td>\n",
       "      <td>Co-operative</td>\n",
       "      <td>1</td>\n",
       "      <td>1-9999</td>\n",
       "      <td>N</td>\n",
       "      <td>108590</td>\n",
       "      <td>1</td>\n",
       "    </tr>\n",
       "    <tr>\n",
       "      <th>2</th>\n",
       "      <td>10547893</td>\n",
       "      <td>ST CLOUD PROFESSIONAL FIREFIGHTERS</td>\n",
       "      <td>T5</td>\n",
       "      <td>CompanySponsored</td>\n",
       "      <td>C3000</td>\n",
       "      <td>ProductDev</td>\n",
       "      <td>Association</td>\n",
       "      <td>1</td>\n",
       "      <td>0</td>\n",
       "      <td>N</td>\n",
       "      <td>5000</td>\n",
       "      <td>0</td>\n",
       "    </tr>\n",
       "    <tr>\n",
       "      <th>3</th>\n",
       "      <td>10553066</td>\n",
       "      <td>SOUTHSIDE ATHLETIC ASSOCIATION</td>\n",
       "      <td>T3</td>\n",
       "      <td>CompanySponsored</td>\n",
       "      <td>C2000</td>\n",
       "      <td>Preservation</td>\n",
       "      <td>Trust</td>\n",
       "      <td>1</td>\n",
       "      <td>10000-24999</td>\n",
       "      <td>N</td>\n",
       "      <td>6692</td>\n",
       "      <td>1</td>\n",
       "    </tr>\n",
       "    <tr>\n",
       "      <th>4</th>\n",
       "      <td>10556103</td>\n",
       "      <td>GENETIC RESEARCH INSTITUTE OF THE DESERT</td>\n",
       "      <td>T3</td>\n",
       "      <td>Independent</td>\n",
       "      <td>C1000</td>\n",
       "      <td>Heathcare</td>\n",
       "      <td>Trust</td>\n",
       "      <td>1</td>\n",
       "      <td>100000-499999</td>\n",
       "      <td>N</td>\n",
       "      <td>142590</td>\n",
       "      <td>1</td>\n",
       "    </tr>\n",
       "  </tbody>\n",
       "</table>\n",
       "</div>"
      ],
      "text/plain": [
       "        EIN                                      NAME APPLICATION_TYPE  \\\n",
       "0  10520599              BLUE KNIGHTS MOTORCYCLE CLUB              T10   \n",
       "1  10531628    AMERICAN CHESAPEAKE CLUB CHARITABLE TR               T3   \n",
       "2  10547893        ST CLOUD PROFESSIONAL FIREFIGHTERS               T5   \n",
       "3  10553066            SOUTHSIDE ATHLETIC ASSOCIATION               T3   \n",
       "4  10556103  GENETIC RESEARCH INSTITUTE OF THE DESERT               T3   \n",
       "\n",
       "        AFFILIATION CLASSIFICATION      USE_CASE  ORGANIZATION  STATUS  \\\n",
       "0       Independent          C1000    ProductDev   Association       1   \n",
       "1       Independent          C2000  Preservation  Co-operative       1   \n",
       "2  CompanySponsored          C3000    ProductDev   Association       1   \n",
       "3  CompanySponsored          C2000  Preservation         Trust       1   \n",
       "4       Independent          C1000     Heathcare         Trust       1   \n",
       "\n",
       "      INCOME_AMT SPECIAL_CONSIDERATIONS  ASK_AMT  IS_SUCCESSFUL  \n",
       "0              0                      N     5000              1  \n",
       "1         1-9999                      N   108590              1  \n",
       "2              0                      N     5000              0  \n",
       "3    10000-24999                      N     6692              1  \n",
       "4  100000-499999                      N   142590              1  "
      ]
     },
     "execution_count": 121,
     "metadata": {},
     "output_type": "execute_result"
    }
   ],
   "source": [
    "# Import our dependencies\n",
    "from sklearn.model_selection import train_test_split\n",
    "from sklearn.preprocessing import StandardScaler\n",
    "import pandas as pd\n",
    "import tensorflow as tf\n",
    "from tensorflow.keras.layers import Dense\n",
    "from keras.callbacks import ModelCheckpoint\n",
    "import numpy as np\n",
    "#  Import and read the charity_data.csv.\n",
    "import pandas as pd \n",
    "application_df = pd.read_csv(\"https://static.bc-edx.com/data/dl-1-2/m21/lms/starter/charity_data.csv\")\n",
    "application_df.head()"
   ]
  },
  {
   "cell_type": "code",
   "execution_count": 122,
   "metadata": {},
   "outputs": [
    {
     "data": {
      "text/html": [
       "<div>\n",
       "<style scoped>\n",
       "    .dataframe tbody tr th:only-of-type {\n",
       "        vertical-align: middle;\n",
       "    }\n",
       "\n",
       "    .dataframe tbody tr th {\n",
       "        vertical-align: top;\n",
       "    }\n",
       "\n",
       "    .dataframe thead th {\n",
       "        text-align: right;\n",
       "    }\n",
       "</style>\n",
       "<table border=\"1\" class=\"dataframe\">\n",
       "  <thead>\n",
       "    <tr style=\"text-align: right;\">\n",
       "      <th></th>\n",
       "      <th>APPLICATION_TYPE</th>\n",
       "      <th>AFFILIATION</th>\n",
       "      <th>CLASSIFICATION</th>\n",
       "      <th>USE_CASE</th>\n",
       "      <th>ORGANIZATION</th>\n",
       "      <th>STATUS</th>\n",
       "      <th>INCOME_AMT</th>\n",
       "      <th>SPECIAL_CONSIDERATIONS</th>\n",
       "      <th>ASK_AMT</th>\n",
       "      <th>IS_SUCCESSFUL</th>\n",
       "    </tr>\n",
       "  </thead>\n",
       "  <tbody>\n",
       "    <tr>\n",
       "      <th>0</th>\n",
       "      <td>T10</td>\n",
       "      <td>Independent</td>\n",
       "      <td>C1000</td>\n",
       "      <td>ProductDev</td>\n",
       "      <td>Association</td>\n",
       "      <td>1</td>\n",
       "      <td>0</td>\n",
       "      <td>N</td>\n",
       "      <td>5000</td>\n",
       "      <td>1</td>\n",
       "    </tr>\n",
       "    <tr>\n",
       "      <th>1</th>\n",
       "      <td>T3</td>\n",
       "      <td>Independent</td>\n",
       "      <td>C2000</td>\n",
       "      <td>Preservation</td>\n",
       "      <td>Co-operative</td>\n",
       "      <td>1</td>\n",
       "      <td>1-9999</td>\n",
       "      <td>N</td>\n",
       "      <td>108590</td>\n",
       "      <td>1</td>\n",
       "    </tr>\n",
       "    <tr>\n",
       "      <th>2</th>\n",
       "      <td>T5</td>\n",
       "      <td>CompanySponsored</td>\n",
       "      <td>C3000</td>\n",
       "      <td>ProductDev</td>\n",
       "      <td>Association</td>\n",
       "      <td>1</td>\n",
       "      <td>0</td>\n",
       "      <td>N</td>\n",
       "      <td>5000</td>\n",
       "      <td>0</td>\n",
       "    </tr>\n",
       "    <tr>\n",
       "      <th>3</th>\n",
       "      <td>T3</td>\n",
       "      <td>CompanySponsored</td>\n",
       "      <td>C2000</td>\n",
       "      <td>Preservation</td>\n",
       "      <td>Trust</td>\n",
       "      <td>1</td>\n",
       "      <td>10000-24999</td>\n",
       "      <td>N</td>\n",
       "      <td>6692</td>\n",
       "      <td>1</td>\n",
       "    </tr>\n",
       "    <tr>\n",
       "      <th>4</th>\n",
       "      <td>T3</td>\n",
       "      <td>Independent</td>\n",
       "      <td>C1000</td>\n",
       "      <td>Heathcare</td>\n",
       "      <td>Trust</td>\n",
       "      <td>1</td>\n",
       "      <td>100000-499999</td>\n",
       "      <td>N</td>\n",
       "      <td>142590</td>\n",
       "      <td>1</td>\n",
       "    </tr>\n",
       "  </tbody>\n",
       "</table>\n",
       "</div>"
      ],
      "text/plain": [
       "  APPLICATION_TYPE       AFFILIATION CLASSIFICATION      USE_CASE  \\\n",
       "0              T10       Independent          C1000    ProductDev   \n",
       "1               T3       Independent          C2000  Preservation   \n",
       "2               T5  CompanySponsored          C3000    ProductDev   \n",
       "3               T3  CompanySponsored          C2000  Preservation   \n",
       "4               T3       Independent          C1000     Heathcare   \n",
       "\n",
       "   ORGANIZATION  STATUS     INCOME_AMT SPECIAL_CONSIDERATIONS  ASK_AMT  \\\n",
       "0   Association       1              0                      N     5000   \n",
       "1  Co-operative       1         1-9999                      N   108590   \n",
       "2   Association       1              0                      N     5000   \n",
       "3         Trust       1    10000-24999                      N     6692   \n",
       "4         Trust       1  100000-499999                      N   142590   \n",
       "\n",
       "   IS_SUCCESSFUL  \n",
       "0              1  \n",
       "1              1  \n",
       "2              0  \n",
       "3              1  \n",
       "4              1  "
      ]
     },
     "execution_count": 122,
     "metadata": {},
     "output_type": "execute_result"
    }
   ],
   "source": [
    "# Drop the non-beneficial ID columns, 'EIN' and 'NAME'.\n",
    "\n",
    "application_df.drop(['EIN', 'NAME'], axis=1, inplace=True)\n",
    "application_df.head()"
   ]
  },
  {
   "cell_type": "code",
   "execution_count": 123,
   "metadata": {},
   "outputs": [
    {
     "name": "stdout",
     "output_type": "stream",
     "text": [
      "APPLICATION_TYPE            17\n",
      "AFFILIATION                  6\n",
      "CLASSIFICATION              71\n",
      "USE_CASE                     5\n",
      "ORGANIZATION                 4\n",
      "STATUS                       2\n",
      "INCOME_AMT                   9\n",
      "SPECIAL_CONSIDERATIONS       2\n",
      "ASK_AMT                   8747\n",
      "IS_SUCCESSFUL                2\n",
      "dtype: int64\n"
     ]
    }
   ],
   "source": [
    "# Determine the number of unique values in each column.\n",
    "unique_value_counts = application_df.nunique()\n",
    "print(unique_value_counts)"
   ]
  },
  {
   "cell_type": "code",
   "execution_count": 124,
   "metadata": {},
   "outputs": [
    {
     "data": {
      "text/plain": [
       "APPLICATION_TYPE\n",
       "T3     27037\n",
       "T4      1542\n",
       "T6      1216\n",
       "T5      1173\n",
       "T19     1065\n",
       "T8       737\n",
       "T7       725\n",
       "T10      528\n",
       "T9       156\n",
       "T13       66\n",
       "T12       27\n",
       "T2        16\n",
       "T25        3\n",
       "T14        3\n",
       "T29        2\n",
       "T15        2\n",
       "T17        1\n",
       "Name: count, dtype: int64"
      ]
     },
     "execution_count": 124,
     "metadata": {},
     "output_type": "execute_result"
    }
   ],
   "source": [
    "# Look at APPLICATION_TYPE value counts for binning\n",
    "application_type_counts = application_df['APPLICATION_TYPE'].value_counts()\n",
    "application_type_counts"
   ]
  },
  {
   "cell_type": "code",
   "execution_count": 125,
   "metadata": {},
   "outputs": [
    {
     "name": "stdout",
     "output_type": "stream",
     "text": [
      "APPLICATION_TYPE\n",
      "T3       27037\n",
      "T4        1542\n",
      "T6        1216\n",
      "T5        1173\n",
      "T19       1065\n",
      "T8         737\n",
      "T7         725\n",
      "T10        528\n",
      "Other      276\n",
      "Name: count, dtype: int64\n"
     ]
    }
   ],
   "source": [
    "# Choose a cutoff value\n",
    "cutoff_value = 500  # You can adjust this cutoff value as needed\n",
    "\n",
    "# Get the value counts of application types\n",
    "application_type_counts = application_df['APPLICATION_TYPE'].value_counts()\n",
    "\n",
    "# Identify application types to be replaced with \"Other\"\n",
    "application_types_to_replace = application_type_counts[application_type_counts < cutoff_value].index\n",
    "\n",
    "# Replace in the DataFrame\n",
    "application_df['APPLICATION_TYPE'].replace(application_types_to_replace, \"Other\", inplace=True)\n",
    "\n",
    "# Check to make sure binning was successful\n",
    "print(application_df['APPLICATION_TYPE'].value_counts())"
   ]
  },
  {
   "cell_type": "code",
   "execution_count": 126,
   "metadata": {},
   "outputs": [
    {
     "data": {
      "text/plain": [
       "CLASSIFICATION\n",
       "C1000    17326\n",
       "C2000     6074\n",
       "C1200     4837\n",
       "C3000     1918\n",
       "C2100     1883\n",
       "         ...  \n",
       "C4120        1\n",
       "C8210        1\n",
       "C2561        1\n",
       "C4500        1\n",
       "C2150        1\n",
       "Name: count, Length: 71, dtype: int64"
      ]
     },
     "execution_count": 126,
     "metadata": {},
     "output_type": "execute_result"
    }
   ],
   "source": [
    "# Look at CLASSIFICATION value counts for binning\n",
    "application_df['CLASSIFICATION'].value_counts()"
   ]
  },
  {
   "cell_type": "code",
   "execution_count": 127,
   "metadata": {},
   "outputs": [],
   "source": [
    "# You may find it helpful to look at CLASSIFICATION value counts >1\n",
    "\n",
    "classification_counts=application_df['CLASSIFICATION'].value_counts().loc[lambda x : x >1]"
   ]
  },
  {
   "cell_type": "code",
   "execution_count": 128,
   "metadata": {},
   "outputs": [
    {
     "data": {
      "text/plain": [
       "CLASSIFICATION\n",
       "C1000    17326\n",
       "C2000     6074\n",
       "C1200     4837\n",
       "Other     2261\n",
       "C3000     1918\n",
       "C2100     1883\n",
       "Name: count, dtype: int64"
      ]
     },
     "execution_count": 128,
     "metadata": {},
     "output_type": "execute_result"
    }
   ],
   "source": [
    "# Choose a cutoff value (e.g., 1000) for classification counts\n",
    "cutoff_value = 1000\n",
    "\n",
    "# Get the counts of each classification\n",
    "classification_counts = application_df['CLASSIFICATION'].value_counts()\n",
    "\n",
    "# Create a list of classifications to be replaced based on the cutoff value\n",
    "classifications_to_replace = classification_counts[classification_counts < cutoff_value].index.tolist()\n",
    "\n",
    "\n",
    "# Replace in dataframe\n",
    "for cls in classifications_to_replace:\n",
    "    application_df['CLASSIFICATION'] = application_df['CLASSIFICATION'].replace(cls,\"Other\")\n",
    "    \n",
    "# Check to make sure binning was successful\n",
    "application_df['CLASSIFICATION'].value_counts()"
   ]
  },
  {
   "cell_type": "code",
   "execution_count": 129,
   "metadata": {},
   "outputs": [
    {
     "name": "stdout",
     "output_type": "stream",
     "text": [
      "STATUS                             2\n",
      "ASK_AMT                         8747\n",
      "IS_SUCCESSFUL                      2\n",
      "APPLICATION_TYPE_Other             2\n",
      "APPLICATION_TYPE_T10               2\n",
      "APPLICATION_TYPE_T19               2\n",
      "APPLICATION_TYPE_T3                2\n",
      "APPLICATION_TYPE_T4                2\n",
      "APPLICATION_TYPE_T5                2\n",
      "APPLICATION_TYPE_T6                2\n",
      "APPLICATION_TYPE_T7                2\n",
      "APPLICATION_TYPE_T8                2\n",
      "AFFILIATION_CompanySponsored       2\n",
      "AFFILIATION_Family/Parent          2\n",
      "AFFILIATION_Independent            2\n",
      "AFFILIATION_National               2\n",
      "AFFILIATION_Other                  2\n",
      "AFFILIATION_Regional               2\n",
      "CLASSIFICATION_C1000               2\n",
      "CLASSIFICATION_C1200               2\n",
      "CLASSIFICATION_C2000               2\n",
      "CLASSIFICATION_C2100               2\n",
      "CLASSIFICATION_C3000               2\n",
      "CLASSIFICATION_Other               2\n",
      "USE_CASE_CommunityServ             2\n",
      "USE_CASE_Heathcare                 2\n",
      "USE_CASE_Other                     2\n",
      "USE_CASE_Preservation              2\n",
      "USE_CASE_ProductDev                2\n",
      "ORGANIZATION_Association           2\n",
      "ORGANIZATION_Co-operative          2\n",
      "ORGANIZATION_Corporation           2\n",
      "ORGANIZATION_Trust                 2\n",
      "INCOME_AMT_0                       2\n",
      "INCOME_AMT_1-9999                  2\n",
      "INCOME_AMT_10000-24999             2\n",
      "INCOME_AMT_100000-499999           2\n",
      "INCOME_AMT_10M-50M                 2\n",
      "INCOME_AMT_1M-5M                   2\n",
      "INCOME_AMT_25000-99999             2\n",
      "INCOME_AMT_50M+                    2\n",
      "INCOME_AMT_5M-10M                  2\n",
      "SPECIAL_CONSIDERATIONS_N           2\n",
      "SPECIAL_CONSIDERATIONS_Y           2\n",
      "dtype: int64\n"
     ]
    }
   ],
   "source": [
    "# Convert categorical data to numeric with `pd.get_dummies`\n",
    "\n",
    "df = pd.DataFrame(application_df)\n",
    "\n",
    "# Convert 'Category' column to dummy variables\n",
    "df = pd.get_dummies(df).astype(int)\n",
    "print(df.nunique())"
   ]
  },
  {
   "cell_type": "code",
   "execution_count": 130,
   "metadata": {},
   "outputs": [],
   "source": [
    "# Split our preprocessed data into our features and target acommand:cellOutput.enableScrolling?4725a3e3-bf82-48ab-a077-800a828a58c4rrays\n",
    "# Assuming you have a DataFrame 'application_df' with preprocessed data\n",
    "\n",
    "# Define your features (X) and target (y)\n",
    "X = df.drop(columns=['IS_SUCCESSFUL'],axis=1)\n",
    "y = df['IS_SUCCESSFUL']\n",
    "\n",
    "X_train, X_test, y_train, y_test = train_test_split(X, y, random_state=70)"
   ]
  },
  {
   "cell_type": "code",
   "execution_count": 131,
   "metadata": {},
   "outputs": [],
   "source": [
    "# Create a StandardScaler instances\n",
    "scaler = StandardScaler()\n",
    "\n",
    "# Fit the StandardScaler\n",
    "X_scaler = scaler.fit(X_train)\n",
    "\n",
    "# Scale the data\n",
    "X_train_scaled = X_scaler.transform(X_train)\n",
    "X_test_scaled = X_scaler.transform(X_test)"
   ]
  },
  {
   "cell_type": "markdown",
   "metadata": {},
   "source": [
    "## Compile, Train and Evaluate the Model"
   ]
  },
  {
   "cell_type": "code",
   "execution_count": 132,
   "metadata": {},
   "outputs": [
    {
     "name": "stdout",
     "output_type": "stream",
     "text": [
      "Model: \"sequential_7\"\n",
      "_________________________________________________________________\n",
      " Layer (type)                Output Shape              Param #   \n",
      "=================================================================\n",
      " dense_22 (Dense)            (None, 80)                3520      \n",
      "                                                                 \n",
      " dense_23 (Dense)            (None, 30)                2430      \n",
      "                                                                 \n",
      " dense_24 (Dense)            (None, 1)                 31        \n",
      "                                                                 \n",
      "=================================================================\n",
      "Total params: 5981 (23.36 KB)\n",
      "Trainable params: 5981 (23.36 KB)\n",
      "Non-trainable params: 0 (0.00 Byte)\n",
      "_________________________________________________________________\n"
     ]
    }
   ],
   "source": [
    "# Define the model - deep neural net, i.e., the number of input features and hidden nodes for each layer.\n",
    "\n",
    "nn_model = tf.keras.models.Sequential()\n",
    "input_dim = X_train.shape[1]\n",
    "# # First hidden layer \n",
    "nn_model.add(Dense(units=80, activation='relu', input_dim=input_dim))\n",
    "\n",
    "\n",
    "# Second hidden layer \n",
    "nn_model.add(Dense(units=30, activation='relu'))\n",
    "\n",
    "# Output layer\n",
    "nn_model.add(Dense(units=1, activation='sigmoid'))  # For binary classification\n",
    "\n",
    "# Check the structure of the model\n",
    "nn_model.summary()\n"
   ]
  },
  {
   "cell_type": "code",
   "execution_count": 133,
   "metadata": {},
   "outputs": [],
   "source": [
    "# Compile the model\n",
    "# Assuming you've defined your model as 'nn' (as per your previous code)\n",
    "\n",
    "# Compile the model\n",
    "\n",
    "nn_model.compile(loss='binary_crossentropy', optimizer='adam', metrics=['accuracy'])"
   ]
  },
  {
   "cell_type": "code",
   "execution_count": 134,
   "metadata": {},
   "outputs": [
    {
     "name": "stdout",
     "output_type": "stream",
     "text": [
      "WARNING:tensorflow:`period` argument is deprecated. Please use `save_freq` to specify the frequency in number of batches seen.\n"
     ]
    }
   ],
   "source": [
    "# Define the ModelCheckpoint callback\n",
    "model_checkpoint = ModelCheckpoint(\n",
    "    filepath='model_weights_epoch.h5',\n",
    "    save_weights_only=True,\n",
    "    period=5  # Save weights every 5 epochs\n",
    ")"
   ]
  },
  {
   "cell_type": "code",
   "execution_count": 135,
   "metadata": {},
   "outputs": [
    {
     "name": "stdout",
     "output_type": "stream",
     "text": [
      "Epoch 1/50\n",
      "804/804 [==============================] - 1s 649us/step - loss: 0.5711 - accuracy: 0.7214\n",
      "Epoch 2/50\n",
      "804/804 [==============================] - 1s 622us/step - loss: 0.5566 - accuracy: 0.7290\n",
      "Epoch 3/50\n",
      "804/804 [==============================] - 0s 612us/step - loss: 0.5530 - accuracy: 0.7306\n",
      "Epoch 4/50\n",
      "804/804 [==============================] - 1s 624us/step - loss: 0.5513 - accuracy: 0.7319\n",
      "Epoch 5/50\n",
      "804/804 [==============================] - 1s 653us/step - loss: 0.5491 - accuracy: 0.7335\n",
      "Epoch 6/50\n",
      "804/804 [==============================] - 1s 650us/step - loss: 0.5487 - accuracy: 0.7323\n",
      "Epoch 7/50\n",
      "804/804 [==============================] - 0s 614us/step - loss: 0.5478 - accuracy: 0.7332\n",
      "Epoch 8/50\n",
      "804/804 [==============================] - 1s 642us/step - loss: 0.5464 - accuracy: 0.7339\n",
      "Epoch 9/50\n",
      "804/804 [==============================] - 0s 617us/step - loss: 0.5468 - accuracy: 0.7348\n",
      "Epoch 10/50\n",
      "804/804 [==============================] - 1s 655us/step - loss: 0.5462 - accuracy: 0.7339\n",
      "Epoch 11/50\n",
      "804/804 [==============================] - 1s 621us/step - loss: 0.5459 - accuracy: 0.7334\n",
      "Epoch 12/50\n",
      "804/804 [==============================] - 1s 623us/step - loss: 0.5452 - accuracy: 0.7340\n",
      "Epoch 13/50\n",
      "804/804 [==============================] - 1s 626us/step - loss: 0.5446 - accuracy: 0.7351\n",
      "Epoch 14/50\n",
      "804/804 [==============================] - 1s 622us/step - loss: 0.5443 - accuracy: 0.7363\n",
      "Epoch 15/50\n",
      "804/804 [==============================] - 1s 654us/step - loss: 0.5440 - accuracy: 0.7358\n",
      "Epoch 16/50\n",
      "804/804 [==============================] - 1s 626us/step - loss: 0.5439 - accuracy: 0.7358\n",
      "Epoch 17/50\n",
      "804/804 [==============================] - 1s 631us/step - loss: 0.5435 - accuracy: 0.7380\n",
      "Epoch 18/50\n",
      "804/804 [==============================] - 1s 644us/step - loss: 0.5434 - accuracy: 0.7373\n",
      "Epoch 19/50\n",
      "804/804 [==============================] - 1s 633us/step - loss: 0.5427 - accuracy: 0.7366\n",
      "Epoch 20/50\n",
      "804/804 [==============================] - 1s 640us/step - loss: 0.5432 - accuracy: 0.7365\n",
      "Epoch 21/50\n",
      "804/804 [==============================] - 1s 641us/step - loss: 0.5428 - accuracy: 0.7372\n",
      "Epoch 22/50\n",
      "804/804 [==============================] - 0s 610us/step - loss: 0.5427 - accuracy: 0.7378\n",
      "Epoch 23/50\n",
      "804/804 [==============================] - 0s 618us/step - loss: 0.5422 - accuracy: 0.7371\n",
      "Epoch 24/50\n",
      "804/804 [==============================] - 1s 622us/step - loss: 0.5418 - accuracy: 0.7376\n",
      "Epoch 25/50\n",
      "804/804 [==============================] - 1s 634us/step - loss: 0.5421 - accuracy: 0.7368\n",
      "Epoch 26/50\n",
      "804/804 [==============================] - 0s 616us/step - loss: 0.5415 - accuracy: 0.7377\n",
      "Epoch 27/50\n",
      "804/804 [==============================] - 1s 633us/step - loss: 0.5410 - accuracy: 0.7372\n",
      "Epoch 28/50\n",
      "804/804 [==============================] - 1s 640us/step - loss: 0.5414 - accuracy: 0.7380\n",
      "Epoch 29/50\n",
      "804/804 [==============================] - 1s 626us/step - loss: 0.5412 - accuracy: 0.7379\n",
      "Epoch 30/50\n",
      "804/804 [==============================] - 1s 641us/step - loss: 0.5411 - accuracy: 0.7376\n",
      "Epoch 31/50\n",
      "804/804 [==============================] - 0s 619us/step - loss: 0.5412 - accuracy: 0.7378\n",
      "Epoch 32/50\n",
      "804/804 [==============================] - 1s 653us/step - loss: 0.5408 - accuracy: 0.7383\n",
      "Epoch 33/50\n",
      "804/804 [==============================] - 0s 619us/step - loss: 0.5405 - accuracy: 0.7378\n",
      "Epoch 34/50\n",
      "804/804 [==============================] - 0s 616us/step - loss: 0.5407 - accuracy: 0.7393\n",
      "Epoch 35/50\n",
      "804/804 [==============================] - 1s 637us/step - loss: 0.5402 - accuracy: 0.7378\n",
      "Epoch 36/50\n",
      "804/804 [==============================] - 0s 615us/step - loss: 0.5402 - accuracy: 0.7384\n",
      "Epoch 37/50\n",
      "804/804 [==============================] - 1s 640us/step - loss: 0.5403 - accuracy: 0.7384\n",
      "Epoch 38/50\n",
      "804/804 [==============================] - 1s 635us/step - loss: 0.5399 - accuracy: 0.7388\n",
      "Epoch 39/50\n",
      "804/804 [==============================] - 1s 622us/step - loss: 0.5396 - accuracy: 0.7385\n",
      "Epoch 40/50\n",
      "804/804 [==============================] - 1s 633us/step - loss: 0.5399 - accuracy: 0.7387\n",
      "Epoch 41/50\n",
      "804/804 [==============================] - 1s 626us/step - loss: 0.5397 - accuracy: 0.7385\n",
      "Epoch 42/50\n",
      "804/804 [==============================] - 1s 638us/step - loss: 0.5395 - accuracy: 0.7383\n",
      "Epoch 43/50\n",
      "804/804 [==============================] - 1s 642us/step - loss: 0.5391 - accuracy: 0.7385\n",
      "Epoch 44/50\n",
      "804/804 [==============================] - 0s 617us/step - loss: 0.5391 - accuracy: 0.7386\n",
      "Epoch 45/50\n",
      "804/804 [==============================] - 1s 628us/step - loss: 0.5394 - accuracy: 0.7386\n",
      "Epoch 46/50\n",
      "804/804 [==============================] - 0s 614us/step - loss: 0.5387 - accuracy: 0.7396\n",
      "Epoch 47/50\n",
      "804/804 [==============================] - 0s 608us/step - loss: 0.5389 - accuracy: 0.7384\n",
      "Epoch 48/50\n",
      "804/804 [==============================] - 1s 623us/step - loss: 0.5390 - accuracy: 0.7391\n",
      "Epoch 49/50\n",
      "804/804 [==============================] - 1s 625us/step - loss: 0.5391 - accuracy: 0.7385\n",
      "Epoch 50/50\n",
      "804/804 [==============================] - 1s 626us/step - loss: 0.5387 - accuracy: 0.7393\n"
     ]
    }
   ],
   "source": [
    "# Train your model\n",
    "fit_model = nn_model.fit(X_train_scaled, y_train, epochs=50,callbacks=model_checkpoint)"
   ]
  },
  {
   "cell_type": "code",
   "execution_count": 136,
   "metadata": {},
   "outputs": [
    {
     "name": "stdout",
     "output_type": "stream",
     "text": [
      "268/268 - 0s - loss: 0.5534 - accuracy: 0.7259 - 169ms/epoch - 629us/step\n",
      "Loss: 0.5533592104911804, Accuracy: 0.7259474992752075\n"
     ]
    }
   ],
   "source": [
    "# Evaluate the model using the test data\n",
    "model_loss, model_accuracy = nn_model.evaluate(X_test_scaled,y_test,verbose=2)\n",
    "print(f\"Loss: {model_loss}, Accuracy: {model_accuracy}\")"
   ]
  },
  {
   "cell_type": "markdown",
   "metadata": {},
   "source": []
  },
  {
   "cell_type": "code",
   "execution_count": 137,
   "metadata": {},
   "outputs": [
    {
     "name": "stderr",
     "output_type": "stream",
     "text": [
      "c:\\Users\\Sujatha\\anaconda3\\envs\\dev\\lib\\site-packages\\keras\\src\\engine\\training.py:3000: UserWarning: You are saving your model as an HDF5 file via `model.save()`. This file format is considered legacy. We recommend using instead the native Keras format, e.g. `model.save('my_model.keras')`.\n",
      "  saving_api.save_model(\n"
     ]
    }
   ],
   "source": [
    "# Export our model to HDF5 file\n",
    "nn_model.save(\"AlphabetSoupCharity.h5\")"
   ]
  }
 ],
 "metadata": {
  "kernelspec": {
   "display_name": "Python 3",
   "language": "python",
   "name": "python3"
  },
  "language_info": {
   "codemirror_mode": {
    "name": "ipython",
    "version": 3
   },
   "file_extension": ".py",
   "mimetype": "text/x-python",
   "name": "python",
   "nbconvert_exporter": "python",
   "pygments_lexer": "ipython3",
   "version": "3.10.12"
  },
  "vscode": {
   "interpreter": {
    "hash": "31f2aee4e71d21fbe5cf8b01ff0e069b9275f58929596ceb00d14d90e3e16cd6"
   }
  }
 },
 "nbformat": 4,
 "nbformat_minor": 4
}
